import pandas as pd

# Load the dataset
data = pd.read_csv('5_yrs_grid_data2.csv')

# Convert 'DateTime' column to datetime format
data['DateTime'] = pd.to_datetime(data['DateTime'])

# Extract hour from 'DateTime'
data['hour'] = data['DateTime'].dt.hour

# Filter rows with stability 0 (stable) and 1 (unstable)
stable_0 = data[data['stability'] == 0]
unstable_1 = data[data['stability'] == 1]

# Count occurrences of stability 0 and 1 for each hour
hourly_count_stable_0 = stable_0['hour'].value_counts().sort_index().reset_index()
hourly_count_unstable_1 = unstable_1['hour'].value_counts().sort_index().reset_index()

# Rename columns
hourly_count_stable_0.columns = ['hour', 'stable_0_count']
hourly_count_unstable_1.columns = ['hour', 'unstable_1_count']

# Merge counts on hour
hourly_counts = pd.merge(hourly_count_stable_0, hourly_count_unstable_1, on='hour', how='outer').fillna(0)

# Sum up the counts for each hour
hourly_counts['total_count'] = hourly_counts['stable_0_count'] + hourly_counts['unstable_1_count']

# Print the table
print(hourly_counts)
